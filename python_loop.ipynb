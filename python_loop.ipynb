{
 "cells": [
  {
   "cell_type": "markdown",
   "metadata": {},
   "source": [
    "### Basic Syntax of slicing\n",
    "\n",
    "The basic syntax of slicing is `[start:stop:step]`, where:\n",
    "\n",
    "1. `start` is the index where the slice begins (inclusive). The default value is the start of the sequence.\n",
    "\n",
    "2. `stop` is the index where the slice ends (exclusive). The default value is the end of the sequence.\n",
    "\n",
    "3. `step` is the step size, which determines the interval between elements selected from `start` to `stop`. If the step size is positive, the slice proceeds from left to right; if the step size is negative, the slice proceeds from right to left.\n",
    "\n",
    "About[ : :-1]：\n",
    "\n",
    "1. `start` defaults to `None` because it is not specified, which in the case of a negative step size means starting from the end of the sequence.\n",
    "\n",
    "2. `stop` also defaults to `None`, which in the case of a negative step size means continuing to the beginning of the sequence.\n",
    "\n",
    "3. `step` is `-1`, which indicates that the slicing operation will start from the end of the sequence and move one element at a time towards the beginning (i.e., from right to left).\n",
    "\n",
    "**Note:** The operation `[ : :-1]` essentially starts from the last element of the sequence and proceeds one by one towards the first element, thereby reversing the entire sequence.\n",
    "\n",
    "You can try more below the example."
   ]
  },
  {
   "cell_type": "code",
   "execution_count": 7,
   "metadata": {},
   "outputs": [
    {
     "name": "stdout",
     "output_type": "stream",
     "text": [
      "olleh\n"
     ]
    }
   ],
   "source": [
    "original_string = \"hello\"\n",
    "\n",
    "reversed_string = original_string[::-1]\n",
    "\n",
    "print(reversed_string)"
   ]
  },
  {
   "cell_type": "markdown",
   "metadata": {
    "collapsed": false
   },
   "source": [
    "### Loop Statements\n",
    "Loop statements allow us to execute a statement or a group of statements multiple times."
   ]
  },
  {
   "cell_type": "markdown",
   "metadata": {
    "collapsed": false
   },
   "source": [
    "### Python provides `for` loops and `while` loops\n",
    "1. **`while` loop**: Executes the loop body as long as the given condition is true; exits the loop when the condition is false.\n",
    "\n",
    "2. **`for` loop**: Repeatedly executes a statement or a group of statements."
   ]
  },
  {
   "cell_type": "markdown",
   "metadata": {
    "collapsed": false
   },
   "source": [
    "### Loop Control Statements\n",
    "Loop control statements can alter the execution order of statements. Python supports the following loop control statements:\n",
    "\n",
    "1. **`break` statement**: Terminates the loop and exits the entire loop during the execution of the statement block.\n",
    "\n",
    "2. **`continue` statement**: Terminates the current iteration of the loop and jumps to the next iteration, skipping the remaining code in the current iteration.\n",
    "\n",
    "3. **`pass` statement**: A null statement used to maintain the integrity of the program structure."
   ]
  },
  {
   "cell_type": "markdown",
   "metadata": {
    "collapsed": false
   },
   "source": [
    "## 1. `while` Loop Statement\n",
    "In Python programming, the `while` statement is used to repeatedly execute a block of code as long as a specified condition is true. This is useful for handling tasks that need to be repeated under certain conditions.\n",
    "\n",
    "Example below:"
   ]
  },
  {
   "cell_type": "code",
   "execution_count": 1,
   "metadata": {
    "collapsed": false
   },
   "outputs": [
    {
     "name": "stdout",
     "output_type": "stream",
     "text": [
      "Hello World! \n",
      "Hello World! \n",
      "Hello World! \n",
      "Hello World! \n",
      "End!\n"
     ]
    }
   ],
   "source": [
    "count = 1\n",
    "\n",
    "while count < 5:\n",
    "   print('Hello World! ')\n",
    "   count = count + 1\n",
    "\n",
    "print('End!')"
   ]
  },
  {
   "cell_type": "code",
   "execution_count": 2,
   "metadata": {
    "collapsed": false
   },
   "outputs": [
    {
     "name": "stdout",
     "output_type": "stream",
     "text": [
      "End!\n"
     ]
    }
   ],
   "source": [
    "count = 0\n",
    "\n",
    "while count < 0:\n",
    "   print('Hello World! ')\n",
    "   count = count + 1\n",
    "\n",
    "print('End!')"
   ]
  },
  {
   "cell_type": "markdown",
   "metadata": {
    "collapsed": false
   },
   "source": [
    "### While using the `while` statement, there are two other important commands: `continue` and `break` to control the flow of the loop.\n",
    "\n",
    "- `continue` is used to skip the current iteration of the loop.\n",
    "- `break` is used to exit the loop entirely.\n",
    "\n",
    "Additionally, the \"condition\" can be a constant value, indicating that the loop will always be true. Here is the specific usage:"
   ]
  },
  {
   "cell_type": "code",
   "execution_count": 3,
   "metadata": {
    "collapsed": false
   },
   "outputs": [
    {
     "name": "stdout",
     "output_type": "stream",
     "text": [
      "2\n",
      "4\n",
      "6\n",
      "8\n",
      "10\n"
     ]
    }
   ],
   "source": [
    "# usage of continue\n",
    "i = 1\n",
    "while i < 10:\n",
    "    i += 1\n",
    "\n",
    "    if i%2 > 0:     \n",
    "        continue\n",
    "\n",
    "    print(i)         # output 2、4、6、8、10"
   ]
  },
  {
   "cell_type": "code",
   "execution_count": 4,
   "metadata": {
    "collapsed": false
   },
   "outputs": [
    {
     "name": "stdout",
     "output_type": "stream",
     "text": [
      "1\n",
      "2\n",
      "3\n",
      "4\n",
      "5\n"
     ]
    }
   ],
   "source": [
    "# usage of break\n",
    "i = 1\n",
    "j = 1\n",
    "\n",
    "while j==1:            # True \n",
    "    print(i)         # output 1~5\n",
    "    i += 1\n",
    "    if i > 5:     # when i > 5, the loop will be terminated\n",
    "        break"
   ]
  },
  {
   "cell_type": "code",
   "execution_count": 5,
   "metadata": {
    "collapsed": false
   },
   "outputs": [],
   "source": [
    "# warn:infinite loop\n",
    "i = 1\n",
    "\n",
    "while i==1:\n",
    "    j = input('Please input:')\n",
    "    print('Output:',j)\n",
    "\n",
    "    if j == 'End':\n",
    "        break\n",
    "\n",
    "print('End! ')"
   ]
  },
  {
   "cell_type": "markdown",
   "metadata": {
    "collapsed": false
   },
   "source": [
    "### Using `else` with Loops\n",
    "In Python, a `while ... else` statement executes the `else` block when the loop condition becomes false:"
   ]
  },
  {
   "cell_type": "code",
   "execution_count": 2,
   "metadata": {
    "collapsed": false
   },
   "outputs": [
    {
     "name": "stdout",
     "output_type": "stream",
     "text": [
      "count smaller or equal 5\n",
      "count smaller or equal 5\n",
      "count smaller or equal 5\n",
      "count smaller or equal 5\n",
      "count smaller or equal 5\n",
      "count smaller or equal 5\n",
      " \n",
      "count bigger 5\n"
     ]
    }
   ],
   "source": [
    "count = 0\n",
    "while count <= 5:\n",
    "   print('count smaller or equal 5')\n",
    "   count = count + 1\n",
    "\n",
    "else:\n",
    "    print(' ')\n",
    "    print('count bigger 5')"
   ]
  },
  {
   "cell_type": "markdown",
   "metadata": {
    "collapsed": false
   },
   "source": [
    "### For Loop\n",
    "\n",
    "A for loop is used for iterating over a sequence (that is either a list, a tuple, a dictionary, a set, or a string)."
   ]
  },
  {
   "cell_type": "code",
   "execution_count": 3,
   "metadata": {
    "collapsed": false
   },
   "outputs": [
    {
     "name": "stdout",
     "output_type": "stream",
     "text": [
      "apple\n",
      "pear\n",
      "bananas\n",
      "orange\n"
     ]
    }
   ],
   "source": [
    "fruit = ['apple','pear','bananas','orange']\n",
    "\n",
    "for j in fruit:\n",
    "    print(j)"
   ]
  },
  {
   "cell_type": "code",
   "execution_count": 4,
   "metadata": {
    "collapsed": false
   },
   "outputs": [
    {
     "name": "stdout",
     "output_type": "stream",
     "text": [
      "0\n",
      "apple\n",
      " \n",
      "1\n",
      "pear\n",
      " \n",
      "2\n",
      "bananas\n",
      " \n",
      "3\n",
      "orange\n",
      " \n"
     ]
    }
   ],
   "source": [
    "for i in range(4):\n",
    "    print(i)\n",
    "    print(fruit[i])\n",
    "    print(' ')"
   ]
  },
  {
   "cell_type": "code",
   "execution_count": 5,
   "metadata": {
    "collapsed": false
   },
   "outputs": [
    {
     "name": "stdout",
     "output_type": "stream",
     "text": [
      "0\n",
      "1\n",
      "2\n",
      "3\n",
      "4\n"
     ]
    }
   ],
   "source": [
    "for i in range(5):\n",
    "    print(i)"
   ]
  },
  {
   "cell_type": "markdown",
   "metadata": {
    "collapsed": false
   },
   "source": [
    "### Nested Loops\n",
    "Python allows the embedding of one loop inside another loop within a loop body."
   ]
  },
  {
   "cell_type": "code",
   "execution_count": 6,
   "metadata": {
    "collapsed": false
   },
   "outputs": [
    {
     "name": "stdout",
     "output_type": "stream",
     "text": [
      "Waiting!-- 0\n",
      "Waiting!-- 0\n",
      "Waiting!-- 0\n",
      " \n",
      "Waiting!-- 1\n",
      "Waiting!-- 1\n",
      "Waiting!-- 1\n",
      " \n",
      "Waiting!-- 2\n",
      "Waiting!-- 2\n",
      "Waiting!-- 2\n",
      " \n",
      "Waiting!-- 3\n",
      "Waiting!-- 3\n",
      "Waiting!-- 3\n",
      " \n",
      "Waiting!-- 4\n",
      "Waiting!-- 4\n",
      "Waiting!-- 4\n",
      " \n",
      "Waiting!-- 5\n",
      "Waiting!-- 5\n",
      "Waiting!-- 5\n",
      " \n",
      "Waiting!-- 6\n",
      "Waiting!-- 6\n",
      "Waiting!-- 6\n",
      " \n",
      "Waiting!-- 7\n",
      "Waiting!-- 7\n",
      "Waiting!-- 7\n",
      " \n",
      "Waiting!-- 8\n",
      "Waiting!-- 8\n",
      "Waiting!-- 8\n",
      " \n",
      "Waiting!-- 9\n",
      "Waiting!-- 9\n",
      "Waiting!-- 9\n",
      " \n"
     ]
    }
   ],
   "source": [
    "# example\n",
    "for i in range(10):\n",
    "    j = 0\n",
    "    while j<3:\n",
    "        print('Waiting!--',i)\n",
    "        j += 1\n",
    "\n",
    "    print(' ')"
   ]
  },
  {
   "cell_type": "markdown",
   "metadata": {},
   "source": [
    "### Practice 1\n",
    "\n",
    "example：\n",
    "\n",
    "    input：[\"apple\", \"bat\", \"bar\", \"atom\", \"book\"]\n",
    "\n",
    "    output：{'a': ['apple', 'atom'], 'b': ['bat', 'bar', 'book']}"
   ]
  },
  {
   "cell_type": "code",
   "execution_count": 10,
   "metadata": {},
   "outputs": [
    {
     "name": "stdout",
     "output_type": "stream",
     "text": [
      "{'a': ['apple', 'atom'], 'b': ['bat', 'bar', 'book']}\n"
     ]
    }
   ],
   "source": [
    "# solution\n",
    "def group_strings(strings):\n",
    "\n",
    "    result = {}\n",
    "\n",
    "    for string in strings:\n",
    "        initial = string[0]  # get the first letter of the string\n",
    "\n",
    "        if initial in result:\n",
    "            result[initial].append(string)\n",
    "        else:\n",
    "            result[initial] = [string]\n",
    "\n",
    "    return result\n",
    "\n",
    "strings = [\"apple\", \"bat\", \"bar\", \"atom\", \"book\"]\n",
    "print(group_strings(strings))"
   ]
  },
  {
   "cell_type": "markdown",
   "metadata": {},
   "source": [
    "### Practice 2\n",
    "\n",
    "Write a Python function to find the longest common prefix among a list of strings.\n",
    "\n",
    "example：\n",
    "\n",
    "    input：[\"flower\", \"flow\", \"flight\"]\n",
    "\n",
    "    output：\"fl\""
   ]
  },
  {
   "cell_type": "code",
   "execution_count": 19,
   "metadata": {},
   "outputs": [
    {
     "name": "stdout",
     "output_type": "stream",
     "text": [
      "fl\n"
     ]
    }
   ],
   "source": [
    "# solution\n",
    "def longest_common_prefix(strs):\n",
    "    \n",
    "    if not strs:\n",
    "        return \"\"\n",
    "    \n",
    "    # Assume the longest common prefix is the first string, and shorten the check gradually\n",
    "    prefix = strs[0]\n",
    "    \n",
    "    for s in strs:\n",
    "        # Keep shortening the prefix until it's not a common prefix of all strings\n",
    "        while not s.startswith(prefix):\n",
    "            prefix = prefix[:-1]\n",
    "            if not prefix:\n",
    "                return \"\"  \n",
    "\n",
    "    return prefix\n",
    "\n",
    "strs = [\"flower\", \"flow\", \"flight\"]\n",
    "print(longest_common_prefix(strs))"
   ]
  },
  {
   "cell_type": "markdown",
   "metadata": {},
   "source": [
    "### Practice3：\n",
    "Given two words word1 and word2, calculate the minimum number of operations needed to convert word1 into word2. There are three things you can do with a word:\n",
    "\n",
    "Insert a character, delete a character, replace a character.\n",
    "\n",
    "Example：\n",
    "\n",
    "    input：word1 = \"Alice\"， word2 = \"ilc\"\n",
    "\n",
    "    output：3"
   ]
  },
  {
   "cell_type": "code",
   "execution_count": 1,
   "metadata": {},
   "outputs": [
    {
     "name": "stdout",
     "output_type": "stream",
     "text": [
      "3\n"
     ]
    }
   ],
   "source": [
    "# solution: dynamic programming\n",
    "def min_distance(word1, word2):\n",
    "    m, n = len(word1), len(word2)\n",
    "\n",
    "    dp = [[0] * (n + 1) for _ in range(m + 1)]\n",
    "\n",
    "    for i in range(m + 1):\n",
    "        dp[i][0] = i\n",
    "    for j in range(n + 1):\n",
    "        dp[0][j] = j\n",
    "   \n",
    "    for i in range(1, m + 1):\n",
    "        for j in range(1, n + 1):\n",
    "            if word1[i - 1] == word2[j - 1]:\n",
    "                dp[i][j] = dp[i - 1][j - 1]\n",
    "            else:\n",
    "                dp[i][j] = 1 + min(dp[i - 1][j], dp[i][j - 1], dp[i - 1][j - 1])\n",
    "\n",
    "    return dp[m][n]\n",
    "\n",
    "word1 = \"Alice\"\n",
    "word2 = \"ilc\"\n",
    "print(min_distance(word1, word2))"
   ]
  },
  {
   "cell_type": "markdown",
   "metadata": {},
   "source": [
    "**Note**: This question may be a little tricky. To learn more about dynamic programming, you can visit the following links:\n",
    "\n",
    "- [Dynamic Programming on GeeksforGeeks](https://www.geeksforgeeks.org/dynamic-programming/)\n",
    "- [My Dynamic Programming Project on GitHub](https://github.com/chronoscop/Dynamic-progamming)"
   ]
  },
  {
   "cell_type": "markdown",
   "metadata": {
    "collapsed": false
   },
   "source": [
    "# Loop and Matrix Multiplication\n",
    "\n",
    "For large matrices, using a for loop for matrix multiplication is usually much slower.\n",
    "\n",
    "This is because numpy's dot function is highly optimized, written in C, and can leverage the optimizations of underlying numerical libraries like BLAS or LAPACK."
   ]
  },
  {
   "cell_type": "code",
   "execution_count": 7,
   "metadata": {
    "collapsed": false
   },
   "outputs": [
    {
     "name": "stdout",
     "output_type": "stream",
     "text": [
      "Matrix multiplication takes time using a for loop:80.1031265258789 second\n"
     ]
    }
   ],
   "source": [
    "import numpy as np\n",
    "import time\n",
    "\n",
    "# set up two random matrices\n",
    "A = np.random.rand(500, 500)\n",
    "B = np.random.rand(500, 500)\n",
    "C = np.zeros((500, 500))\n",
    "\n",
    "# begining time\n",
    "start_time = time.time()\n",
    "\n",
    "# matrix multiplication using for loop\n",
    "for i in range(500):\n",
    "    for j in range(500):\n",
    "        for k in range(500):\n",
    "            C[i][j] += A[i][k] * B[k][j]\n",
    "\n",
    "# end time\n",
    "end_time = time.time()\n",
    "\n",
    "# print the result\n",
    "print(f\"Matrix multiplication takes time using a for loop:{end_time - start_time} second\")"
   ]
  },
  {
   "cell_type": "markdown",
   "metadata": {},
   "source": [
    "The dot function is much faster than the for loop version."
   ]
  },
  {
   "cell_type": "code",
   "execution_count": 14,
   "metadata": {
    "collapsed": false
   },
   "outputs": [
    {
     "name": "stdout",
     "output_type": "stream",
     "text": [
      "Matrix multiplication takes time using the numpy dot function:0.003002166748046875 second\n"
     ]
    }
   ],
   "source": [
    "# set up two random matrices\n",
    "A = np.random.rand(500, 500)\n",
    "B = np.random.rand(500, 500)\n",
    "\n",
    "# begining time\n",
    "start_time = time.time()\n",
    "\n",
    "# using numpy's dot function\n",
    "C = np.dot(A, B)\n",
    "\n",
    "# end time\n",
    "end_time = time.time()\n",
    "\n",
    "# print the result\n",
    "print(f\"Matrix multiplication takes time using the numpy dot function:{end_time - start_time} second\")"
   ]
  }
 ],
 "metadata": {
  "kernelspec": {
   "display_name": "Python 3",
   "language": "python",
   "name": "python3"
  },
  "language_info": {
   "codemirror_mode": {
    "name": "ipython",
    "version": 3
   },
   "file_extension": ".py",
   "mimetype": "text/x-python",
   "name": "python",
   "nbconvert_exporter": "python",
   "pygments_lexer": "ipython3",
   "version": "3.11.7"
  }
 },
 "nbformat": 4,
 "nbformat_minor": 0
}
